{
 "cells": [
  {
   "metadata": {},
   "cell_type": "code",
   "outputs": [],
   "execution_count": null,
   "source": "",
   "id": "c3b81de41a206b82"
  },
  {
   "metadata": {
    "ExecuteTime": {
     "end_time": "2025-08-10T11:42:38.757767Z",
     "start_time": "2025-08-10T11:42:32.238408Z"
    }
   },
   "cell_type": "code",
   "source": [
    "import sys\n",
    "\n",
    "import bertopic\n",
    "import tqdm\n",
    "!{sys.executable} -m pip install stanza --upgrade\n",
    "!{sys.executable} -m pip install torch --upgrade\n"
   ],
   "id": "422f4773c78560ff",
   "outputs": [
    {
     "name": "stdout",
     "output_type": "stream",
     "text": [
      "Requirement already satisfied: stanza in c:\\users\\hodos\\appdata\\local\\programs\\python\\python39\\lib\\site-packages (1.10.1)\n",
      "Requirement already satisfied: emoji in c:\\users\\hodos\\appdata\\local\\programs\\python\\python39\\lib\\site-packages (from stanza) (2.14.1)\n",
      "Requirement already satisfied: numpy in c:\\users\\hodos\\appdata\\local\\programs\\python\\python39\\lib\\site-packages (from stanza) (1.26.4)\n",
      "Requirement already satisfied: protobuf>=3.15.0 in c:\\users\\hodos\\appdata\\local\\programs\\python\\python39\\lib\\site-packages (from stanza) (6.31.1)\n",
      "Requirement already satisfied: requests in c:\\users\\hodos\\appdata\\local\\programs\\python\\python39\\lib\\site-packages (from stanza) (2.32.3)\n",
      "Requirement already satisfied: networkx in c:\\users\\hodos\\appdata\\local\\programs\\python\\python39\\lib\\site-packages (from stanza) (3.2.1)\n",
      "Requirement already satisfied: tomli in c:\\users\\hodos\\appdata\\local\\programs\\python\\python39\\lib\\site-packages (from stanza) (2.0.1)\n",
      "Requirement already satisfied: torch>=1.3.0 in c:\\users\\hodos\\appdata\\local\\programs\\python\\python39\\lib\\site-packages (from stanza) (2.8.0)\n",
      "Requirement already satisfied: tqdm in c:\\users\\hodos\\appdata\\local\\programs\\python\\python39\\lib\\site-packages (from stanza) (4.67.1)\n",
      "Requirement already satisfied: filelock in c:\\users\\hodos\\appdata\\local\\programs\\python\\python39\\lib\\site-packages (from torch>=1.3.0->stanza) (3.18.0)\n",
      "Requirement already satisfied: typing-extensions>=4.10.0 in c:\\users\\hodos\\appdata\\local\\programs\\python\\python39\\lib\\site-packages (from torch>=1.3.0->stanza) (4.12.0)\n",
      "Requirement already satisfied: sympy>=1.13.3 in c:\\users\\hodos\\appdata\\local\\programs\\python\\python39\\lib\\site-packages (from torch>=1.3.0->stanza) (1.13.3)\n",
      "Requirement already satisfied: jinja2 in c:\\users\\hodos\\appdata\\local\\programs\\python\\python39\\lib\\site-packages (from torch>=1.3.0->stanza) (3.1.4)\n",
      "Requirement already satisfied: fsspec in c:\\users\\hodos\\appdata\\local\\programs\\python\\python39\\lib\\site-packages (from torch>=1.3.0->stanza) (2025.3.2)\n",
      "Requirement already satisfied: mpmath<1.4,>=1.1.0 in c:\\users\\hodos\\appdata\\local\\programs\\python\\python39\\lib\\site-packages (from sympy>=1.13.3->torch>=1.3.0->stanza) (1.3.0)\n",
      "Requirement already satisfied: MarkupSafe>=2.0 in c:\\users\\hodos\\appdata\\local\\programs\\python\\python39\\lib\\site-packages (from jinja2->torch>=1.3.0->stanza) (2.1.5)\n",
      "Requirement already satisfied: charset-normalizer<4,>=2 in c:\\users\\hodos\\appdata\\local\\programs\\python\\python39\\lib\\site-packages (from requests->stanza) (3.3.2)\n",
      "Requirement already satisfied: idna<4,>=2.5 in c:\\users\\hodos\\appdata\\local\\programs\\python\\python39\\lib\\site-packages (from requests->stanza) (3.7)\n",
      "Requirement already satisfied: urllib3<3,>=1.21.1 in c:\\users\\hodos\\appdata\\local\\programs\\python\\python39\\lib\\site-packages (from requests->stanza) (2.2.1)\n",
      "Requirement already satisfied: certifi>=2017.4.17 in c:\\users\\hodos\\appdata\\local\\programs\\python\\python39\\lib\\site-packages (from requests->stanza) (2024.2.2)\n",
      "Requirement already satisfied: colorama in c:\\users\\hodos\\appdata\\local\\programs\\python\\python39\\lib\\site-packages (from tqdm->stanza) (0.4.6)\n"
     ]
    },
    {
     "name": "stderr",
     "output_type": "stream",
     "text": [
      "\n",
      "[notice] A new release of pip is available: 25.1.1 -> 25.2\n",
      "[notice] To update, run: c:\\users\\hodos\\appdata\\local\\programs\\python\\python39\\python.exe -m pip install --upgrade pip\n"
     ]
    },
    {
     "name": "stdout",
     "output_type": "stream",
     "text": [
      "Requirement already satisfied: torch in c:\\users\\hodos\\appdata\\local\\programs\\python\\python39\\lib\\site-packages (2.8.0)\n",
      "Requirement already satisfied: filelock in c:\\users\\hodos\\appdata\\local\\programs\\python\\python39\\lib\\site-packages (from torch) (3.18.0)\n",
      "Requirement already satisfied: typing-extensions>=4.10.0 in c:\\users\\hodos\\appdata\\local\\programs\\python\\python39\\lib\\site-packages (from torch) (4.12.0)\n",
      "Requirement already satisfied: sympy>=1.13.3 in c:\\users\\hodos\\appdata\\local\\programs\\python\\python39\\lib\\site-packages (from torch) (1.13.3)\n",
      "Requirement already satisfied: networkx in c:\\users\\hodos\\appdata\\local\\programs\\python\\python39\\lib\\site-packages (from torch) (3.2.1)\n",
      "Requirement already satisfied: jinja2 in c:\\users\\hodos\\appdata\\local\\programs\\python\\python39\\lib\\site-packages (from torch) (3.1.4)\n",
      "Requirement already satisfied: fsspec in c:\\users\\hodos\\appdata\\local\\programs\\python\\python39\\lib\\site-packages (from torch) (2025.3.2)\n",
      "Requirement already satisfied: mpmath<1.4,>=1.1.0 in c:\\users\\hodos\\appdata\\local\\programs\\python\\python39\\lib\\site-packages (from sympy>=1.13.3->torch) (1.3.0)\n",
      "Requirement already satisfied: MarkupSafe>=2.0 in c:\\users\\hodos\\appdata\\local\\programs\\python\\python39\\lib\\site-packages (from jinja2->torch) (2.1.5)\n"
     ]
    },
    {
     "name": "stderr",
     "output_type": "stream",
     "text": [
      "\n",
      "[notice] A new release of pip is available: 25.1.1 -> 25.2\n",
      "[notice] To update, run: c:\\users\\hodos\\appdata\\local\\programs\\python\\python39\\python.exe -m pip install --upgrade pip\n"
     ]
    }
   ],
   "execution_count": 8
  },
  {
   "metadata": {},
   "cell_type": "code",
   "outputs": [],
   "execution_count": null,
   "source": [
    "import pandas\n",
    "\n",
    "pip install bertopic[all] pandas tqdm\n"
   ],
   "id": "6cde27c670644786"
  },
  {
   "metadata": {
    "ExecuteTime": {
     "end_time": "2025-08-10T11:47:30.216763Z",
     "start_time": "2025-08-10T11:47:08.063650Z"
    }
   },
   "cell_type": "code",
   "source": [
    "import stanza\n",
    "import pandas as pd\n",
    "from tqdm import tqdm\n",
    "\n",
    "# Download English model (only once)\n",
    "stanza.download('en')\n",
    "\n",
    "# Initialize the pipeline\n",
    "nlp = stanza.Pipeline('en', processors='tokenize,mwt,pos,lemma,depparse')\n",
    "\n",
    "def extract_subjects(text):\n",
    "    doc = nlp(text)\n",
    "    subjects = []\n",
    "    for sentence in doc.sentences:\n",
    "        for word in sentence.words:\n",
    "            if word.deprel in ['nsubj', 'nsubjpass']:\n",
    "                subjects.append(word.text)\n",
    "    return subjects\n",
    "\n",
    "\n",
    "\n"
   ],
   "id": "dba008d125ca76e4",
   "outputs": [
    {
     "data": {
      "text/plain": [
       "Downloading https://raw.githubusercontent.com/stanfordnlp/stanza-resources/main/resources_1.10.0.json:   0%|  …"
      ],
      "application/vnd.jupyter.widget-view+json": {
       "version_major": 2,
       "version_minor": 0,
       "model_id": "db5e1563ed37491184fcfe6792f04522"
      }
     },
     "metadata": {},
     "output_type": "display_data"
    },
    {
     "name": "stderr",
     "output_type": "stream",
     "text": [
      "2025-08-10 14:47:08 INFO: Downloaded file to C:\\Users\\hodos\\stanza_resources\\resources.json\n",
      "2025-08-10 14:47:08 INFO: Downloading default packages for language: en (English) ...\n",
      "2025-08-10 14:47:10 INFO: File exists: C:\\Users\\hodos\\stanza_resources\\en\\default.zip\n",
      "2025-08-10 14:47:17 INFO: Finished downloading models and saved to C:\\Users\\hodos\\stanza_resources\n",
      "2025-08-10 14:47:17 INFO: Checking for updates to resources.json in case models have been updated.  Note: this behavior can be turned off with download_method=None or download_method=DownloadMethod.REUSE_RESOURCES\n"
     ]
    },
    {
     "data": {
      "text/plain": [
       "Downloading https://raw.githubusercontent.com/stanfordnlp/stanza-resources/main/resources_1.10.0.json:   0%|  …"
      ],
      "application/vnd.jupyter.widget-view+json": {
       "version_major": 2,
       "version_minor": 0,
       "model_id": "6f4ef8fef810483f93875a6ada667493"
      }
     },
     "metadata": {},
     "output_type": "display_data"
    },
    {
     "name": "stderr",
     "output_type": "stream",
     "text": [
      "2025-08-10 14:47:17 INFO: Downloaded file to C:\\Users\\hodos\\stanza_resources\\resources.json\n",
      "2025-08-10 14:47:19 INFO: Loading these models for language: en (English):\n",
      "=================================\n",
      "| Processor | Package           |\n",
      "---------------------------------\n",
      "| tokenize  | combined          |\n",
      "| mwt       | combined          |\n",
      "| pos       | combined_charlm   |\n",
      "| lemma     | combined_nocharlm |\n",
      "| depparse  | combined_charlm   |\n",
      "=================================\n",
      "\n",
      "2025-08-10 14:47:19 INFO: Using device: cpu\n",
      "2025-08-10 14:47:19 INFO: Loading: tokenize\n",
      "2025-08-10 14:47:19 INFO: Loading: mwt\n",
      "2025-08-10 14:47:19 INFO: Loading: pos\n",
      "2025-08-10 14:47:26 INFO: Loading: lemma\n",
      "2025-08-10 14:47:28 INFO: Loading: depparse\n",
      "2025-08-10 14:47:30 INFO: Done loading processors!\n"
     ]
    }
   ],
   "execution_count": 2
  },
  {
   "metadata": {
    "ExecuteTime": {
     "end_time": "2025-08-10T11:52:58.185254Z",
     "start_time": "2025-08-10T11:51:35.505925Z"
    }
   },
   "cell_type": "code",
   "source": [
    "path = r\"C:\\Users\\hodos\\Documents\\Uni\\Uni-Year-3\\Semester2\\Data\\reviews_amsterdam.csv\"\n",
    "\n",
    "df = pd.read_csv(path, nrows=100)\n",
    "comments = df[\"comments\"].dropna().astype(str)\n",
    "\n",
    "tqdm.pandas()\n",
    "df[\"subjects\"] = comments.progress_apply(extract_subjects)\n"
   ],
   "id": "788daeec382cacc0",
   "outputs": [
    {
     "name": "stderr",
     "output_type": "stream",
     "text": [
      "100%|██████████| 100/100 [01:22<00:00,  1.21it/s]\n"
     ]
    }
   ],
   "execution_count": 3
  },
  {
   "metadata": {
    "ExecuteTime": {
     "end_time": "2025-08-10T11:54:26.030134Z",
     "start_time": "2025-08-10T11:54:25.998213Z"
    }
   },
   "cell_type": "code",
   "source": "df[\"subjects\"]\n",
   "id": "e7bb4997c3da4321",
   "outputs": [
    {
     "data": {
      "text/plain": [
       "0                 [Marc, we, he, he, He, we, snafu, He]\n",
       "1                                                    []\n",
       "2               [Marc, He, Communication, apartment, I]\n",
       "3     [apartment, It, it, it, station, apartment, Marc]\n",
       "4                    [This, we, Marc, place, I, It, we]\n",
       "                            ...                        \n",
       "95                                [I, he, that, you, I]\n",
       "96                                     [Marc, He, room]\n",
       "97             [apartment, surroundings, Ampartment, I]\n",
       "98                                         [It, We, we]\n",
       "99    [We, we, Marc, he, we, he, it, we, We, I, we, it]\n",
       "Name: subjects, Length: 100, dtype: object"
      ]
     },
     "execution_count": 4,
     "metadata": {},
     "output_type": "execute_result"
    }
   ],
   "execution_count": 4
  }
 ],
 "metadata": {
  "kernelspec": {
   "display_name": "Python 3",
   "language": "python",
   "name": "python3"
  },
  "language_info": {
   "codemirror_mode": {
    "name": "ipython",
    "version": 2
   },
   "file_extension": ".py",
   "mimetype": "text/x-python",
   "name": "python",
   "nbconvert_exporter": "python",
   "pygments_lexer": "ipython2",
   "version": "2.7.6"
  }
 },
 "nbformat": 4,
 "nbformat_minor": 5
}
