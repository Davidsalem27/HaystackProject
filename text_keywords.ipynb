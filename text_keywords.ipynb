{
 "cells": [
  {
   "metadata": {},
   "cell_type": "code",
   "outputs": [],
   "execution_count": null,
   "source": [
    "import pandas as pd\n",
    "import spacy\n",
    "from tqdm import tqdm\n",
    "\n",
    "# Load SpaCy English model\n",
    "nlp = spacy.load(\"en_core_web_sm\")\n",
    "\n",
    "# Load reviews\n",
    "df = pd.read_csv(\"reviews.csv\")\n",
    "comments = df[\"comments\"].dropna().astype(str)\n",
    "\n",
    "def extract_subjects(text):\n",
    "    doc = nlp(text)\n",
    "    subjects = [token.text for token in doc if \"subj\" in token.dep_]\n",
    "    return subjects\n",
    "\n",
    "tqdm.pandas()\n",
    "df[\"subjects\"] = comments.progress_apply(extract_subjects)\n",
    "\n",
    "df.to_csv(\"reviews_with_subjects.csv\", index=False)\n"
   ],
   "id": "dba008d125ca76e4"
  }
 ],
 "metadata": {
  "kernelspec": {
   "display_name": "Python 3",
   "language": "python",
   "name": "python3"
  },
  "language_info": {
   "codemirror_mode": {
    "name": "ipython",
    "version": 2
   },
   "file_extension": ".py",
   "mimetype": "text/x-python",
   "name": "python",
   "nbconvert_exporter": "python",
   "pygments_lexer": "ipython2",
   "version": "2.7.6"
  }
 },
 "nbformat": 4,
 "nbformat_minor": 5
}
