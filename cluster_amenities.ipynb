{
 "cells": [
  {
   "metadata": {
    "ExecuteTime": {
     "end_time": "2025-08-12T11:13:53.808559Z",
     "start_time": "2025-08-12T11:13:53.792755Z"
    }
   },
   "cell_type": "code",
   "source": [
    "import pandas as pd\n",
    "import re\n",
    "import ast\n",
    "from collections import Counter\n"
   ],
   "id": "db229671c535d68",
   "outputs": [],
   "execution_count": 30
  },
  {
   "metadata": {
    "ExecuteTime": {
     "end_time": "2025-08-12T11:05:47.287127Z",
     "start_time": "2025-08-12T11:05:47.272212Z"
    }
   },
   "cell_type": "code",
   "source": "_path = r\"C:\\Users\\hodos\\Documents\\Uni\\Uni-Year-3\\Semester2\\Data\\cleaned_listings_amsterdam.csv\"",
   "id": "e8f0fdc376739ec4",
   "outputs": [],
   "execution_count": 20
  },
  {
   "metadata": {
    "ExecuteTime": {
     "end_time": "2025-08-12T11:04:02.619198Z",
     "start_time": "2025-08-12T11:04:02.597037Z"
    }
   },
   "cell_type": "code",
   "source": [
    "def load_csv(path):\n",
    "    \"\"\"Load CSV file from the given path.\"\"\"\n",
    "    return pd.read_csv(path)"
   ],
   "id": "3cc03f90303c4ce3",
   "outputs": [],
   "execution_count": 18
  },
  {
   "metadata": {
    "ExecuteTime": {
     "end_time": "2025-08-12T11:05:50.751884Z",
     "start_time": "2025-08-12T11:05:49.761213Z"
    }
   },
   "cell_type": "code",
   "source": [
    "data = load_csv(_path)\n",
    "df = pd.DataFrame(data)\n"
   ],
   "id": "4f4323d94bb5acdb",
   "outputs": [],
   "execution_count": 21
  },
  {
   "metadata": {
    "ExecuteTime": {
     "end_time": "2025-08-12T11:13:17.339402Z",
     "start_time": "2025-08-12T11:13:17.330717Z"
    }
   },
   "cell_type": "code",
   "source": "\n",
   "id": "a4febe4cfa97e77a",
   "outputs": [
    {
     "name": "stdout",
     "output_type": "stream",
     "text": [
      "<class 'str'>\n"
     ]
    }
   ],
   "execution_count": 29
  },
  {
   "metadata": {
    "ExecuteTime": {
     "end_time": "2025-08-12T11:14:00.240275Z",
     "start_time": "2025-08-12T11:13:56.456089Z"
    }
   },
   "cell_type": "code",
   "source": [
    "# -------------------\n",
    "# 1. Clean text\n",
    "# -------------------\n",
    "def clean_amenity(text):\n",
    "    text = text.lower()\n",
    "    text = re.sub(r\"[^\\w\\s]\", \"\", text)  # remove punctuation\n",
    "    text = re.sub(r\"\\s+\", \" \", text).strip()\n",
    "    return text\n",
    "\n",
    "\n",
    "\n",
    "df[\"amenities\"] = df[\"amenities\"].apply(ast.literal_eval)\n",
    "df[\"cleaned_amenities\"] = df[\"amenities\"].apply(lambda lst: [clean_amenity(a) for a in lst])\n",
    "\n"
   ],
   "id": "fc605067fc1532b6",
   "outputs": [],
   "execution_count": 31
  },
  {
   "metadata": {
    "ExecuteTime": {
     "end_time": "2025-08-12T11:14:01.949234Z",
     "start_time": "2025-08-12T11:14:01.933250Z"
    }
   },
   "cell_type": "code",
   "source": "df[\"cleaned_amenities\"][0]",
   "id": "6483da028e6b2ffd",
   "outputs": [
    {
     "data": {
      "text/plain": [
       "['coffee maker nespresso',\n",
       " 'shampoo',\n",
       " 'paid street parking off premises',\n",
       " 'essentials',\n",
       " 'waterfront',\n",
       " 'shower gel',\n",
       " 'mini fridge',\n",
       " 'city skyline view',\n",
       " 'fast wifi 245 mbps',\n",
       " 'private entrance',\n",
       " 'tv with standard cable',\n",
       " 'luggage dropoff allowed',\n",
       " 'outdoor furniture',\n",
       " 'long term stays allowed',\n",
       " 'self checkin',\n",
       " 'private patio or balcony',\n",
       " 'outdoor dining area',\n",
       " 'dedicated workspace',\n",
       " 'smoke alarm',\n",
       " 'hp neutral eco friendly body soap',\n",
       " 'refrigerator',\n",
       " 'wine glasses',\n",
       " 'breakfast',\n",
       " 'harbor view',\n",
       " 'canal view',\n",
       " 'private backyard not fully fenced',\n",
       " 'boat slip',\n",
       " 'hot water',\n",
       " 'garden view',\n",
       " 'clothing storage closet',\n",
       " 'books and reading material',\n",
       " 'bed linens',\n",
       " 'hangers',\n",
       " 'smart lock',\n",
       " 'portable fans',\n",
       " 'central heating',\n",
       " 'carbon monoxide alarm',\n",
       " 'lake access',\n",
       " 'hair dryer',\n",
       " 'extra pillows and blankets',\n",
       " 'private living room',\n",
       " 'safe',\n",
       " 'fire extinguisher',\n",
       " 'laundromat nearby',\n",
       " 'heating split type ductless system',\n",
       " 'bikes',\n",
       " 'air conditioning',\n",
       " 'coffee',\n",
       " 'kayak',\n",
       " 'dining table']"
      ]
     },
     "execution_count": 32,
     "metadata": {},
     "output_type": "execute_result"
    }
   ],
   "execution_count": 32
  },
  {
   "metadata": {
    "ExecuteTime": {
     "end_time": "2025-08-12T11:14:11.152826Z",
     "start_time": "2025-08-12T11:14:10.664336Z"
    }
   },
   "cell_type": "code",
   "source": [
    "# -------------------\n",
    "# 2. Find most frequent words\n",
    "# -------------------\n",
    "word_counter = Counter()\n",
    "\n",
    "for lst in df[\"cleaned_amenities\"]:\n",
    "    for amenity in lst:\n",
    "        words = amenity.split()\n",
    "        word_counter.update(words)\n",
    "\n",
    "# Show the top N frequent words (skip common boring words)\n",
    "skip_words = {\"with\", \"and\", \"the\", \"in\", \"on\", \"of\", \"for\", \"to\", \"inch\", \"by\"}\n",
    "top_words = [(w, c) for w, c in word_counter.items() if w not in skip_words]\n",
    "top_words = sorted(top_words, key=lambda x: x[1], reverse=True)\n",
    "\n",
    "print(\"Top words found in amenities:\")\n",
    "for w, c in top_words[:20]:\n",
    "    print(f\"{w}: {c}\")"
   ],
   "id": "6686a165b50b8ff1",
   "outputs": [
    {
     "name": "stdout",
     "output_type": "stream",
     "text": [
      "Top words found in amenities:\n",
      "alarm: 15211\n",
      "hot: 13585\n",
      "water: 13398\n",
      "coffee: 11952\n",
      "dryer: 11455\n",
      "wifi: 10432\n",
      "private: 9304\n",
      "smoke: 9220\n",
      "heating: 8997\n",
      "kitchen: 8703\n",
      "maker: 8175\n",
      "dining: 8022\n",
      "clothing: 7887\n",
      "essentials: 7794\n",
      "washer: 7717\n",
      "dishes: 7573\n",
      "silverware: 7572\n",
      "refrigerator: 7469\n",
      "bed: 7295\n",
      "linens: 7295\n"
     ]
    }
   ],
   "execution_count": 33
  },
  {
   "metadata": {
    "ExecuteTime": {
     "end_time": "2025-08-12T11:14:56.352096Z",
     "start_time": "2025-08-12T11:14:56.336173Z"
    }
   },
   "cell_type": "code",
   "source": [
    "# -------------------\n",
    "# 3. Auto-generate mapping skeleton\n",
    "# -------------------\n",
    "# Here we assume each word itself is a candidate keyword for standardization\n",
    "auto_map = {word: f\"has_{word.replace(' ', '_')}\" for word, _ in top_words[:20]}\n",
    "\n",
    "print(\"\\nAuto-generated mapping:\")\n",
    "for k, v in auto_map.items():\n",
    "    print(f\"'{k}': '{v}'\")"
   ],
   "id": "5cf9489e87da799f",
   "outputs": [
    {
     "name": "stdout",
     "output_type": "stream",
     "text": [
      "\n",
      "Auto-generated mapping:\n",
      "'alarm': 'has_alarm'\n",
      "'hot': 'has_hot'\n",
      "'water': 'has_water'\n",
      "'coffee': 'has_coffee'\n",
      "'dryer': 'has_dryer'\n",
      "'wifi': 'has_wifi'\n",
      "'private': 'has_private'\n",
      "'smoke': 'has_smoke'\n",
      "'heating': 'has_heating'\n",
      "'kitchen': 'has_kitchen'\n",
      "'maker': 'has_maker'\n",
      "'dining': 'has_dining'\n",
      "'clothing': 'has_clothing'\n",
      "'essentials': 'has_essentials'\n",
      "'washer': 'has_washer'\n",
      "'dishes': 'has_dishes'\n",
      "'silverware': 'has_silverware'\n",
      "'refrigerator': 'has_refrigerator'\n",
      "'bed': 'has_bed'\n",
      "'linens': 'has_linens'\n"
     ]
    }
   ],
   "execution_count": 34
  },
  {
   "metadata": {
    "ExecuteTime": {
     "end_time": "2025-08-12T11:15:12.996982Z",
     "start_time": "2025-08-12T11:15:12.971104Z"
    }
   },
   "cell_type": "code",
   "source": [
    "# -------------------\n",
    "# 4. Apply mapping to standardize amenities\n",
    "# -------------------\n",
    "def map_auto(amenity_list, keyword_map):\n",
    "    standardized = set()\n",
    "    for amenity in amenity_list:\n",
    "        for keyword, standard_name in keyword_map.items():\n",
    "            if keyword in amenity:\n",
    "                standardized.add(standard_name)\n",
    "    return list(standardized)\n"
   ],
   "id": "788daeec382cacc0",
   "outputs": [],
   "execution_count": 35
  },
  {
   "metadata": {
    "ExecuteTime": {
     "end_time": "2025-08-12T11:16:20.489791Z",
     "start_time": "2025-08-12T11:16:19.636565Z"
    }
   },
   "cell_type": "code",
   "source": [
    "df[\"standardized_amenities\"] = df[\"cleaned_amenities\"].apply(lambda lst: map_auto(lst, auto_map))\n",
    "\n",
    "# -------------------\n",
    "# 5. Create binary columns\n",
    "# -------------------\n",
    "all_standardized = sorted({amen for lst in df[\"standardized_amenities\"] for amen in lst})\n",
    "\n",
    "for amenity in all_standardized:\n",
    "    df[amenity] = df[\"standardized_amenities\"].apply(lambda lst: int(amenity in lst))\n",
    "\n",
    "print(\"\\nFinal DataFrame:\")\n",
    "print(df.head)"
   ],
   "id": "7a1239611aad0389",
   "outputs": [
    {
     "name": "stdout",
     "output_type": "stream",
     "text": [
      "\n",
      "Final DataFrame:\n",
      "<bound method NDFrame.head of                         id                                       listing_url  \\\n",
      "0                    27886                https://www.airbnb.com/rooms/27886   \n",
      "1                    28871                https://www.airbnb.com/rooms/28871   \n",
      "2                    29051                https://www.airbnb.com/rooms/29051   \n",
      "3                    44391                https://www.airbnb.com/rooms/44391   \n",
      "4                    47061                https://www.airbnb.com/rooms/47061   \n",
      "...                    ...                                               ...   \n",
      "10163  1437492870456891135  https://www.airbnb.com/rooms/1437492870456891135   \n",
      "10164  1437585511300942515  https://www.airbnb.com/rooms/1437585511300942515   \n",
      "10165  1437601466510408215  https://www.airbnb.com/rooms/1437601466510408215   \n",
      "10166  1437660079651924451  https://www.airbnb.com/rooms/1437660079651924451   \n",
      "10167  1438602403155395239  https://www.airbnb.com/rooms/1438602403155395239   \n",
      "\n",
      "            scrape_id last_scraped           source  \\\n",
      "0      20250609011745   2025-06-17      city scrape   \n",
      "1      20250609011745   2025-06-17      city scrape   \n",
      "2      20250609011745   2025-06-17      city scrape   \n",
      "3      20250609011745   2025-06-17  previous scrape   \n",
      "4      20250609011745   2025-06-17      city scrape   \n",
      "...               ...          ...              ...   \n",
      "10163  20250609011745   2025-06-17      city scrape   \n",
      "10164  20250609011745   2025-06-17      city scrape   \n",
      "10165  20250609011745   2025-06-17      city scrape   \n",
      "10166  20250609011745   2025-06-17      city scrape   \n",
      "10167  20250609011745   2025-06-17      city scrape   \n",
      "\n",
      "                                                    name  \\\n",
      "0      Romantic, stylish B&B houseboat in canal district   \n",
      "1                                Comfortable double room   \n",
      "2                       Comfortable single / double room   \n",
      "3        Quiet 2-bedroom Amsterdam city centre apartment   \n",
      "4                       Charming apartment in old centre   \n",
      "...                                                  ...   \n",
      "10163                     Stylish large apt/with terrace   \n",
      "10164                         Sfeervol huis in Amsterdam   \n",
      "10165            New design apartment next to Westerpark   \n",
      "10166                                     Chateau Hedwig   \n",
      "10167                     Central station private flat d   \n",
      "\n",
      "                                             description  \\\n",
      "0      Stylish and romantic houseboat on fantastic hi...   \n",
      "1              Basic bedroom in the center of Amsterdam.   \n",
      "2      This room can also be rented as a single or a ...   \n",
      "3      Guests greatly appreciate the unique location ...   \n",
      "4      A beautiful, quiet apartment in the center of ...   \n",
      "...                                                  ...   \n",
      "10163  This beautiful large apartment on the top floo...   \n",
      "10164  This sunny corner house is a 5-minute walk fro...   \n",
      "10165  Welcome to my newly renovated designer apartme...   \n",
      "10166  Stylish 2 floor apartment in Amsterdam’s Old W...   \n",
      "10167  Enjoy easy access to everything from this perf...   \n",
      "\n",
      "                                   neighborhood_overview  \\\n",
      "0             Central, quiet, safe, clean and beautiful.   \n",
      "1           Flower market , Leidseplein , Rembrantsplein   \n",
      "2      the street is quite lively especially on weeke...   \n",
      "3      The appartment is located in the city centre. ...   \n",
      "4                                                    NaN   \n",
      "...                                                  ...   \n",
      "10163                                                NaN   \n",
      "10164                                                NaN   \n",
      "10165                                                NaN   \n",
      "10166                                                NaN   \n",
      "10167                                                NaN   \n",
      "\n",
      "                                             picture_url    host_id  ...  \\\n",
      "0      https://a0.muscache.com/pictures/02c2da9d-660e...      97647  ...   \n",
      "1      https://a0.muscache.com/pictures/160889/362340...     124245  ...   \n",
      "2      https://a0.muscache.com/pictures/162009/bd6be2...     124245  ...   \n",
      "3      https://a0.muscache.com/pictures/97741545/3900...     194779  ...   \n",
      "4      https://a0.muscache.com/pictures/268343/a08ce2...     211696  ...   \n",
      "...                                                  ...        ...  ...   \n",
      "10163  https://a0.muscache.com/pictures/miso/Hosting-...  699642430  ...   \n",
      "10164  https://a0.muscache.com/pictures/miso/Hosting-...    7177465  ...   \n",
      "10165  https://a0.muscache.com/pictures/hosting/Hosti...   58139080  ...   \n",
      "10166  https://a0.muscache.com/pictures/miso/Hosting-...  576071459  ...   \n",
      "10167  https://a0.muscache.com/pictures/hosting/Hosti...  449825081  ...   \n",
      "\n",
      "      has_kitchen has_linens has_maker has_private has_refrigerator  \\\n",
      "0               0          1         1           1                1   \n",
      "1               0          1         1           1                1   \n",
      "2               0          1         1           1                1   \n",
      "3               1          1         1           1                1   \n",
      "4               1          1         1           1                1   \n",
      "...           ...        ...       ...         ...              ...   \n",
      "10163           1          1         1           1                1   \n",
      "10164           1          0         0           0                0   \n",
      "10165           1          1         1           0                0   \n",
      "10166           1          1         1           0                0   \n",
      "10167           0          1         0           0                0   \n",
      "\n",
      "      has_silverware has_smoke has_washer  has_water has_wifi  \n",
      "0                  0         1          0          1        1  \n",
      "1                  0         1          0          1        1  \n",
      "2                  0         1          0          1        1  \n",
      "3                  1         1          1          1        1  \n",
      "4                  1         1          1          1        1  \n",
      "...              ...       ...        ...        ...      ...  \n",
      "10163              1         0          1          1        1  \n",
      "10164              0         1          1          0        1  \n",
      "10165              0         1          1          1        1  \n",
      "10166              0         1          1          0        1  \n",
      "10167              0         1          0          1        1  \n",
      "\n",
      "[10168 rows x 102 columns]>\n"
     ]
    }
   ],
   "execution_count": 39
  }
 ],
 "metadata": {
  "kernelspec": {
   "display_name": "Python 3",
   "language": "python",
   "name": "python3"
  },
  "language_info": {
   "codemirror_mode": {
    "name": "ipython",
    "version": 2
   },
   "file_extension": ".py",
   "mimetype": "text/x-python",
   "name": "python",
   "nbconvert_exporter": "python",
   "pygments_lexer": "ipython2",
   "version": "2.7.6"
  }
 },
 "nbformat": 4,
 "nbformat_minor": 5
}
